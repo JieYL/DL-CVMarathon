{
  "nbformat": 4,
  "nbformat_minor": 0,
  "metadata": {
    "accelerator": "GPU",
    "colab": {
      "name": "Day022_Captcha_HW.ipynb",
      "provenance": [],
      "collapsed_sections": []
    },
    "kernelspec": {
      "display_name": "Python 3",
      "language": "python",
      "name": "python3"
    },
    "language_info": {
      "codemirror_mode": {
        "name": "ipython",
        "version": 3
      },
      "file_extension": ".py",
      "mimetype": "text/x-python",
      "name": "python",
      "nbconvert_exporter": "python",
      "pygments_lexer": "ipython3",
      "version": "3.7.6"
    }
  },
  "cells": [
    {
      "cell_type": "markdown",
      "metadata": {
        "id": "JvqBLnKwvt08"
      },
      "source": [
        "## 『本次練習內容』\n",
        "#### 搭建一個能識別驗證碼的模型(CNN+CTC)"
      ]
    },
    {
      "cell_type": "markdown",
      "metadata": {
        "id": "YbMm5Ktkvt08"
      },
      "source": [
        "## 『本次練習目的』\n",
        "  #### 了解如何結合CNN與CTC Loss\n",
        "  #### 有時間學員也可以延伸閱讀CNN+RNN+CTC模型\n",
        "  #### 沒有GPU的學員可以使用Colab，可以參考問答區的文章"
      ]
    },
    {
      "cell_type": "code",
      "metadata": {
        "id": "k7plY7Usvt08",
        "outputId": "e7ba9f0a-6ab7-47f6-ff3a-8faec32a4618"
      },
      "source": [
        "## 使用Colab可先run這裡的code\n",
        "#假如要連結自己的雲端硬碟再開啟\n",
        "from google.colab import drive\n",
        "drive.mount('/content/gdrive')\n",
        "# 檢查GPU\n",
        "!nvidia-smi\n",
        "# #安裝產生驗證碼的套件"
      ],
      "execution_count": null,
      "outputs": [
        {
          "output_type": "error",
          "ename": "ModuleNotFoundError",
          "evalue": "No module named 'google.colab'",
          "traceback": [
            "\u001b[1;31m---------------------------------------------------------------------------\u001b[0m",
            "\u001b[1;31mModuleNotFoundError\u001b[0m                       Traceback (most recent call last)",
            "\u001b[1;32m<ipython-input-3-d375ebb773b8>\u001b[0m in \u001b[0;36m<module>\u001b[1;34m\u001b[0m\n\u001b[0;32m      1\u001b[0m \u001b[1;31m## 使用Colab可先run這裡的code\u001b[0m\u001b[1;33m\u001b[0m\u001b[1;33m\u001b[0m\u001b[1;33m\u001b[0m\u001b[0m\n\u001b[0;32m      2\u001b[0m \u001b[1;31m#假如要連結自己的雲端硬碟再開啟\u001b[0m\u001b[1;33m\u001b[0m\u001b[1;33m\u001b[0m\u001b[1;33m\u001b[0m\u001b[0m\n\u001b[1;32m----> 3\u001b[1;33m \u001b[1;32mfrom\u001b[0m \u001b[0mgoogle\u001b[0m\u001b[1;33m.\u001b[0m\u001b[0mcolab\u001b[0m \u001b[1;32mimport\u001b[0m \u001b[0mdrive\u001b[0m\u001b[1;33m\u001b[0m\u001b[1;33m\u001b[0m\u001b[0m\n\u001b[0m\u001b[0;32m      4\u001b[0m \u001b[0mdrive\u001b[0m\u001b[1;33m.\u001b[0m\u001b[0mmount\u001b[0m\u001b[1;33m(\u001b[0m\u001b[1;34m'/content/gdrive'\u001b[0m\u001b[1;33m)\u001b[0m\u001b[1;33m\u001b[0m\u001b[1;33m\u001b[0m\u001b[0m\n\u001b[0;32m      5\u001b[0m \u001b[1;31m# 檢查GPU\u001b[0m\u001b[1;33m\u001b[0m\u001b[1;33m\u001b[0m\u001b[1;33m\u001b[0m\u001b[0m\n",
            "\u001b[1;31mModuleNotFoundError\u001b[0m: No module named 'google.colab'"
          ]
        }
      ]
    },
    {
      "cell_type": "code",
      "metadata": {
        "id": "kBtRuTGVvt09",
        "outputId": "9e416b24-df2a-464c-efb7-176a6c9fad44"
      },
      "source": [
        "!pip install google-colab"
      ],
      "execution_count": null,
      "outputs": [
        {
          "output_type": "stream",
          "text": [
            "Collecting google-colab\n",
            "  Downloading google-colab-1.0.0.tar.gz (72 kB)\n",
            "Collecting google-auth~=1.4.0\n",
            "  Downloading google_auth-1.4.2-py2.py3-none-any.whl (64 kB)\n",
            "Collecting ipykernel~=4.6.0\n",
            "  Downloading ipykernel-4.6.1-py3-none-any.whl (104 kB)\n",
            "Collecting ipython~=5.5.0\n",
            "  Downloading ipython-5.5.0-py3-none-any.whl (758 kB)\n",
            "Collecting notebook~=5.2.0\n",
            "  Downloading notebook-5.2.2-py2.py3-none-any.whl (8.0 MB)\n",
            "Collecting six~=1.12.0\n",
            "  Downloading six-1.12.0-py2.py3-none-any.whl (10 kB)\n",
            "Collecting pandas~=0.24.0\n",
            "  Downloading pandas-0.24.2-cp37-cp37m-win_amd64.whl (9.0 MB)\n",
            "Collecting portpicker~=1.2.0\n",
            "  Downloading portpicker-1.2.0.tar.gz (17 kB)\n",
            "Collecting requests~=2.21.0\n",
            "  Downloading requests-2.21.0-py2.py3-none-any.whl (57 kB)\n",
            "Collecting tornado~=4.5.0\n",
            "  Downloading tornado-4.5.3.tar.gz (484 kB)\n",
            "Collecting pyasn1-modules>=0.2.1\n",
            "  Downloading pyasn1_modules-0.2.8-py2.py3-none-any.whl (155 kB)\n",
            "Collecting rsa>=3.1.4\n",
            "  Downloading rsa-4.6-py3-none-any.whl (47 kB)\n",
            "Collecting cachetools>=2.0.0\n",
            "  Downloading cachetools-4.1.1-py3-none-any.whl (10 kB)\n",
            "Requirement already satisfied: traitlets>=4.1.0 in c:\\users\\ljy\\anaconda3\\lib\\site-packages (from ipykernel~=4.6.0->google-colab) (4.3.3)\n",
            "Requirement already satisfied: jupyter-client in c:\\users\\ljy\\anaconda3\\lib\\site-packages (from ipykernel~=4.6.0->google-colab) (5.3.4)\n",
            "Collecting prompt-toolkit<2.0.0,>=1.0.4\n",
            "  Downloading prompt_toolkit-1.0.18-py3-none-any.whl (245 kB)\n",
            "Requirement already satisfied: decorator in c:\\users\\ljy\\anaconda3\\lib\\site-packages (from ipython~=5.5.0->google-colab) (4.4.1)\n",
            "Requirement already satisfied: simplegeneric>0.8 in c:\\users\\ljy\\anaconda3\\lib\\site-packages (from ipython~=5.5.0->google-colab) (0.8.1)\n",
            "Requirement already satisfied: pygments in c:\\users\\ljy\\anaconda3\\lib\\site-packages (from ipython~=5.5.0->google-colab) (2.5.2)\n",
            "Requirement already satisfied: colorama; sys_platform == \"win32\" in c:\\users\\ljy\\anaconda3\\lib\\site-packages (from ipython~=5.5.0->google-colab) (0.4.3)\n",
            "Requirement already satisfied: pickleshare in c:\\users\\ljy\\anaconda3\\lib\\site-packages (from ipython~=5.5.0->google-colab) (0.7.5)\n",
            "Requirement already satisfied: setuptools>=18.5 in c:\\users\\ljy\\anaconda3\\lib\\site-packages (from ipython~=5.5.0->google-colab) (45.2.0.post20200210)\n",
            "Requirement already satisfied: ipython-genutils in c:\\users\\ljy\\anaconda3\\lib\\site-packages (from notebook~=5.2.0->google-colab) (0.2.0)\n",
            "Requirement already satisfied: jupyter-core in c:\\users\\ljy\\anaconda3\\lib\\site-packages (from notebook~=5.2.0->google-colab) (4.6.1)\n",
            "Requirement already satisfied: jinja2 in c:\\users\\ljy\\anaconda3\\lib\\site-packages (from notebook~=5.2.0->google-colab) (2.11.1)\n",
            "Requirement already satisfied: nbconvert in c:\\users\\ljy\\anaconda3\\lib\\site-packages (from notebook~=5.2.0->google-colab) (5.6.1)\n",
            "Requirement already satisfied: nbformat in c:\\users\\ljy\\anaconda3\\lib\\site-packages (from notebook~=5.2.0->google-colab) (5.0.4)\n",
            "Requirement already satisfied: pytz>=2011k in c:\\users\\ljy\\anaconda3\\lib\\site-packages (from pandas~=0.24.0->google-colab) (2019.3)\n",
            "Requirement already satisfied: numpy>=1.12.0 in c:\\users\\ljy\\anaconda3\\lib\\site-packages (from pandas~=0.24.0->google-colab) (1.18.1)\n",
            "Requirement already satisfied: python-dateutil>=2.5.0 in c:\\users\\ljy\\anaconda3\\lib\\site-packages (from pandas~=0.24.0->google-colab) (2.8.1)\n",
            "Requirement already satisfied: chardet<3.1.0,>=3.0.2 in c:\\users\\ljy\\anaconda3\\lib\\site-packages (from requests~=2.21.0->google-colab) (3.0.4)\n",
            "Requirement already satisfied: idna<2.9,>=2.5 in c:\\users\\ljy\\anaconda3\\lib\\site-packages (from requests~=2.21.0->google-colab) (2.8)\n",
            "Collecting urllib3<1.25,>=1.21.1\n",
            "  Downloading urllib3-1.24.3-py2.py3-none-any.whl (118 kB)\n",
            "Requirement already satisfied: certifi>=2017.4.17 in c:\\users\\ljy\\anaconda3\\lib\\site-packages (from requests~=2.21.0->google-colab) (2019.11.28)\n",
            "Collecting pyasn1<0.5.0,>=0.4.6\n",
            "  Downloading pyasn1-0.4.8-py2.py3-none-any.whl (77 kB)\n",
            "Requirement already satisfied: pywin32>=1.0; sys_platform == \"win32\" in c:\\users\\ljy\\anaconda3\\lib\\site-packages (from jupyter-client->ipykernel~=4.6.0->google-colab) (227)\n",
            "Requirement already satisfied: pyzmq>=13 in c:\\users\\ljy\\anaconda3\\lib\\site-packages (from jupyter-client->ipykernel~=4.6.0->google-colab) (18.1.1)\n",
            "Requirement already satisfied: wcwidth in c:\\users\\ljy\\anaconda3\\lib\\site-packages (from prompt-toolkit<2.0.0,>=1.0.4->ipython~=5.5.0->google-colab) (0.1.8)\n",
            "Requirement already satisfied: MarkupSafe>=0.23 in c:\\users\\ljy\\anaconda3\\lib\\site-packages (from jinja2->notebook~=5.2.0->google-colab) (1.1.1)\n",
            "Requirement already satisfied: mistune<2,>=0.8.1 in c:\\users\\ljy\\anaconda3\\lib\\site-packages (from nbconvert->notebook~=5.2.0->google-colab) (0.8.4)\n",
            "Requirement already satisfied: defusedxml in c:\\users\\ljy\\anaconda3\\lib\\site-packages (from nbconvert->notebook~=5.2.0->google-colab) (0.6.0)\n",
            "Requirement already satisfied: bleach in c:\\users\\ljy\\anaconda3\\lib\\site-packages (from nbconvert->notebook~=5.2.0->google-colab) (3.1.0)\n",
            "Requirement already satisfied: entrypoints>=0.2.2 in c:\\users\\ljy\\anaconda3\\lib\\site-packages (from nbconvert->notebook~=5.2.0->google-colab) (0.3)\n",
            "Requirement already satisfied: testpath in c:\\users\\ljy\\anaconda3\\lib\\site-packages (from nbconvert->notebook~=5.2.0->google-colab) (0.4.4)\n",
            "Requirement already satisfied: pandocfilters>=1.4.1 in c:\\users\\ljy\\anaconda3\\lib\\site-packages (from nbconvert->notebook~=5.2.0->google-colab) (1.4.2)\n",
            "Requirement already satisfied: jsonschema!=2.5.0,>=2.4 in c:\\users\\ljy\\anaconda3\\lib\\site-packages (from nbformat->notebook~=5.2.0->google-colab) (3.2.0)\n",
            "Requirement already satisfied: webencodings in c:\\users\\ljy\\anaconda3\\lib\\site-packages (from bleach->nbconvert->notebook~=5.2.0->google-colab) (0.5.1)\n",
            "Requirement already satisfied: attrs>=17.4.0 in c:\\users\\ljy\\anaconda3\\lib\\site-packages (from jsonschema!=2.5.0,>=2.4->nbformat->notebook~=5.2.0->google-colab) (19.3.0)\n",
            "Requirement already satisfied: importlib-metadata; python_version < \"3.8\" in c:\\users\\ljy\\anaconda3\\lib\\site-packages (from jsonschema!=2.5.0,>=2.4->nbformat->notebook~=5.2.0->google-colab) (1.5.0)\n",
            "Requirement already satisfied: pyrsistent>=0.14.0 in c:\\users\\ljy\\anaconda3\\lib\\site-packages (from jsonschema!=2.5.0,>=2.4->nbformat->notebook~=5.2.0->google-colab) (0.15.7)\n",
            "Requirement already satisfied: zipp>=0.5 in c:\\users\\ljy\\anaconda3\\lib\\site-packages (from importlib-metadata; python_version < \"3.8\"->jsonschema!=2.5.0,>=2.4->nbformat->notebook~=5.2.0->google-colab) (2.2.0)\n",
            "Building wheels for collected packages: google-colab, portpicker, tornado\n",
            "  Building wheel for google-colab (setup.py): started\n",
            "  Building wheel for google-colab (setup.py): finished with status 'done'\n",
            "  Created wheel for google-colab: filename=google_colab-1.0.0-py2.py3-none-any.whl size=102298 sha256=c2afc7819b56fbcf32f1a4671571ae0d831f7cb02f79e157153eafb78fe96785\n",
            "  Stored in directory: c:\\users\\ljy\\appdata\\local\\pip\\cache\\wheels\\f6\\3b\\58\\f34ea9045a7c69bd5634978bf25ac60277e90997d9e6e74192\n",
            "  Building wheel for portpicker (setup.py): started\n",
            "  Building wheel for portpicker (setup.py): finished with status 'done'\n",
            "  Created wheel for portpicker: filename=portpicker-1.2.0-py3-none-any.whl size=13370 sha256=9b0cfe16a94dea5e0e157b0e133f2a0806ecd0988a0a85827f5f046e1a190cf5\n",
            "  Stored in directory: c:\\users\\ljy\\appdata\\local\\pip\\cache\\wheels\\73\\0c\\f5\\35977446e45e818e6b848be3d41e7f38298a5102f4dcda21c6\n",
            "  Building wheel for tornado (setup.py): started\n",
            "  Building wheel for tornado (setup.py): finished with status 'done'\n",
            "  Created wheel for tornado: filename=tornado-4.5.3-cp37-cp37m-win_amd64.whl size=425599 sha256=6dd595b51276861667eb5211558d15db96b83148d002e97d220442ae6e20d736\n",
            "  Stored in directory: c:\\users\\ljy\\appdata\\local\\pip\\cache\\wheels\\a2\\45\\43\\36ec7a893e16c1212a6b1505ded0a2d73cf8e863a0227c8e04\n",
            "Successfully built google-colab portpicker tornado\n",
            "Installing collected packages: pyasn1, pyasn1-modules, six, rsa, cachetools, google-auth, prompt-toolkit, ipython, tornado, ipykernel, notebook, pandas, portpicker, urllib3, requests, google-colab\n",
            "  Attempting uninstall: six\n",
            "    Found existing installation: six 1.14.0\n",
            "    Uninstalling six-1.14.0:\n",
            "      Successfully uninstalled six-1.14.0\n",
            "  Attempting uninstall: prompt-toolkit\n",
            "    Found existing installation: prompt-toolkit 3.0.3\n",
            "    Uninstalling prompt-toolkit-3.0.3:\n",
            "      Successfully uninstalled prompt-toolkit-3.0.3\n",
            "  Attempting uninstall: ipython\n",
            "    Found existing installation: ipython 7.12.0\n",
            "    Uninstalling ipython-7.12.0:\n",
            "      Successfully uninstalled ipython-7.12.0\n",
            "  Attempting uninstall: tornado\n",
            "    Found existing installation: tornado 6.0.3\n",
            "    Uninstalling tornado-6.0.3:\n",
            "      Successfully uninstalled tornado-6.0.3\n"
          ],
          "name": "stdout"
        },
        {
          "output_type": "stream",
          "text": [
            "ERROR: tensorflow 1.14.0 requires google-pasta>=0.1.6, which is not installed.\n",
            "ERROR: pytest-astropy 0.8.0 requires pytest-cov>=2.0, which is not installed.\n",
            "ERROR: pytest-astropy 0.8.0 requires pytest-filter-subpackage>=0.1, which is not installed.\n",
            "ERROR: astroid 2.3.3 requires typed-ast<1.5,>=1.4.0; implementation_name == \"cpython\" and python_version < \"3.8\", which is not installed.\n",
            "ERROR: spyder-kernels 1.8.1 has requirement ipykernel>=5.1.3; python_version > \"2\", but you'll have ipykernel 4.6.1 which is incompatible.\n",
            "ERROR: jupyter-console 6.1.0 has requirement prompt-toolkit!=3.0.0,!=3.0.1,<3.1.0,>=2.0.0, but you'll have prompt-toolkit 1.0.18 which is incompatible.\n",
            "ERROR: distributed 2.11.0 has requirement tornado>=5; python_version < \"3.8\", but you'll have tornado 4.5.3 which is incompatible.\n",
            "ERROR: Could not install packages due to an EnvironmentError: [WinError 5] 存取被拒。: 'c:\\\\users\\\\ljy\\\\anaconda3\\\\lib\\\\site-packages\\\\~ornado\\\\speedups.cp37-win_amd64.pyd'\n",
            "Consider using the `--user` option or check the permissions.\n",
            "\n"
          ],
          "name": "stderr"
        }
      ]
    },
    {
      "cell_type": "markdown",
      "metadata": {
        "id": "1HWGCHwovt1A"
      },
      "source": [
        "## 記得先 pip install captcha"
      ]
    },
    {
      "cell_type": "code",
      "metadata": {
        "colab": {
          "base_uri": "https://localhost:8080/"
        },
        "id": "AxGi02yvx1Go",
        "outputId": "1492f9ae-6abb-4421-ab4f-a37e5c523551"
      },
      "source": [
        "!pip install captcha"
      ],
      "execution_count": 1,
      "outputs": [
        {
          "output_type": "stream",
          "text": [
            "Collecting captcha\n",
            "\u001b[?25l  Downloading https://files.pythonhosted.org/packages/90/fe/d4ddf1e6576073b5eaea76e9b2afa022c626212a30c871968480be3ccb7b/captcha-0.3-py3-none-any.whl (101kB)\n",
            "\r\u001b[K     |███▎                            | 10kB 17.9MB/s eta 0:00:01\r\u001b[K     |██████▌                         | 20kB 19.8MB/s eta 0:00:01\r\u001b[K     |█████████▊                      | 30kB 10.3MB/s eta 0:00:01\r\u001b[K     |█████████████                   | 40kB 8.2MB/s eta 0:00:01\r\u001b[K     |████████████████▏               | 51kB 4.3MB/s eta 0:00:01\r\u001b[K     |███████████████████▍            | 61kB 4.8MB/s eta 0:00:01\r\u001b[K     |██████████████████████▋         | 71kB 4.9MB/s eta 0:00:01\r\u001b[K     |█████████████████████████▉      | 81kB 5.2MB/s eta 0:00:01\r\u001b[K     |█████████████████████████████   | 92kB 5.4MB/s eta 0:00:01\r\u001b[K     |████████████████████████████████| 102kB 4.1MB/s \n",
            "\u001b[?25hRequirement already satisfied: Pillow in /usr/local/lib/python3.6/dist-packages (from captcha) (7.0.0)\n",
            "Installing collected packages: captcha\n",
            "Successfully installed captcha-0.3\n"
          ],
          "name": "stdout"
        }
      ]
    },
    {
      "cell_type": "markdown",
      "metadata": {
        "id": "N-B6bQJQvt1A"
      },
      "source": [
        "## 產生驗證碼"
      ]
    },
    {
      "cell_type": "code",
      "metadata": {
        "colab": {
          "base_uri": "https://localhost:8080/",
          "height": 255
        },
        "id": "h2VVCBKwk6Zv",
        "outputId": "9a5bb83d-2ea5-413b-b4ad-7e2329ee7309"
      },
      "source": [
        "from captcha.image import ImageCaptcha\n",
        "import matplotlib.pyplot as plt\n",
        "import numpy as np\n",
        "import random\n",
        "\n",
        "%matplotlib inline\n",
        "%config InlineBackend.figure_format = 'retina'\n",
        "\n",
        "import string\n",
        "##驗證碼包含0-10數字以及26個英文字母\n",
        "characters = string.digits + string.ascii_uppercase\n",
        "print(characters)\n",
        "\n",
        "##設定產生圖片尺寸，以及總類別，n_class之所以要加一是為了留一個位置給Blank\n",
        "width, height, n_len, n_class = 170, 80, 4, len(characters)+1\n",
        "\n",
        "##設定產生驗證碼的generator\n",
        "generator = ImageCaptcha(width=width, height=height)\n",
        "\n",
        "##我們先練習固定長度4個字的驗證碼\n",
        "random_str = ''.join([random.choice(characters) for j in range(4)])\n",
        "img = generator.generate_image(random_str)\n",
        "\n",
        "plt.imshow(img)\n",
        "plt.title(random_str)"
      ],
      "execution_count": 2,
      "outputs": [
        {
          "output_type": "stream",
          "text": [
            "0123456789ABCDEFGHIJKLMNOPQRSTUVWXYZ\n"
          ],
          "name": "stdout"
        },
        {
          "output_type": "execute_result",
          "data": {
            "text/plain": [
              "Text(0.5, 1.0, 'TIFC')"
            ]
          },
          "metadata": {
            "tags": []
          },
          "execution_count": 2
        },
        {
          "output_type": "display_data",
          "data": {
            "image/png": "[encoded data removed]",
            "text/plain": [
              "<Figure size 432x288 with 1 Axes>"
            ]
          },
          "metadata": {
            "tags": [],
            "image/png": {
              "width": 369,
              "height": 203
            },
            "needs_background": "light"
          }
        }
      ]
    },
    {
      "cell_type": "markdown",
      "metadata": {
        "id": "G0YK88ihvt1B"
      },
      "source": [
        "## 自己搭建一個CNN模型使得output feature Map 高度被壓縮成小於4，8<寬度<20\n",
        "#### 解答的output feature Map 為 (batch_size,1,13,32)"
      ]
    },
    {
      "cell_type": "code",
      "metadata": {
        "id": "tU5aEBugvt1B"
      },
      "source": [
        "from keras import backend as K\n",
        "import keras\n",
        "\n",
        "##CTC Loss需要四個資訊，分別是\n",
        "## Label\n",
        "## 預測\n",
        "## CNN OUTPUT寬度\n",
        "## 預測影像所包含文字長度\n",
        "def ctc_lambda_func(args):\n",
        "    y_pred, labels, input_length, label_length = args\n",
        "    return K.ctc_batch_cost(labels, y_pred, input_length, label_length)"
      ],
      "execution_count": 3,
      "outputs": []
    },
    {
      "cell_type": "code",
      "metadata": {
        "id": "KX3Jq1sClGGn"
      },
      "source": [
        "from keras.models import *\n",
        "from keras.layers import *\n",
        "rnn_size = 128\n",
        "\n",
        "input_tensor = Input((height,width, 3))\n",
        "x = input_tensor\n",
        "\n",
        "for i in range(4):\n",
        "    x = Conv2D(32, (3,3), activation='relu')(x)\n",
        "    x = BatchNormalization(axis=-1)(x)\n",
        "    x = Conv2D(32, (3,3), activation='relu')(x)\n",
        "    x = BatchNormalization(axis=-1)(x)\n",
        "    if i <3:\n",
        "        x = MaxPooling2D(pool_size=(2, 2))(x)\n",
        "    else:\n",
        "        x = MaxPooling2D(pool_size=(2, 1))(x)\n",
        "\n",
        "##記錄輸出CNN尺寸，loss部分需要這個資訊\n",
        "##conv_shape=(Batch_size,輸出高度,輸出寬度,輸出深度)\n",
        "conv_shape = x.get_shape()\n",
        "\n",
        "##從(Batch_size,輸出高度,輸出寬度,輸出深度)變成(Batch_size,輸出寬度,輸出深度*輸出高度)，以符合ctc loss需求\n",
        "x = Reshape(target_shape=(int(conv_shape[2]), int(conv_shape[1]*conv_shape[3])))(x)\n",
        "\n",
        "x = Dense(32, activation='relu')(x)\n",
        "\n",
        "x = Dropout(0.25)(x)\n",
        "x = Dense(n_class, activation='softmax')(x)\n",
        "\n",
        "\n",
        "##包裝用來預測的model\n",
        "base_model = Model(inputs=[input_tensor], outputs=[x])\n",
        "\n",
        "\n",
        "##設定要給CTC Loss的資訊\n",
        "labels = Input(name='the_labels', shape=[n_len], dtype='float32')\n",
        "input_length = Input(name='input_length', shape=[1], dtype='int64')\n",
        "label_length = Input(name='label_length', shape=[1], dtype='int64')\n",
        "loss_out = Lambda(ctc_lambda_func, output_shape=(1,), \n",
        "                  name='ctc')([x, labels, input_length, label_length])\n",
        "\n",
        "##這裡的model是用來計算loss\n",
        "model = Model(inputs=[input_tensor, labels, input_length, label_length], outputs=[loss_out])\n",
        "\n",
        "##之所以要lambda y_true, y_pred: y_pred是因為我們的loss已經包在網路裡，會output:y_true, y_pred，而我們只需要y_pred\n",
        "model.compile(loss={'ctc': lambda y_true, y_pred: y_pred}, optimizer='SGD')"
      ],
      "execution_count": 14,
      "outputs": []
    },
    {
      "cell_type": "code",
      "metadata": {
        "colab": {
          "base_uri": "https://localhost:8080/"
        },
        "id": "m1YRv0TVN_FL",
        "outputId": "ac6e655e-89ef-4176-88d8-234c9265ba9f"
      },
      "source": [
        "model.summary()"
      ],
      "execution_count": 15,
      "outputs": [
        {
          "output_type": "stream",
          "text": [
            "Model: \"functional_9\"\n",
            "__________________________________________________________________________________________________\n",
            "Layer (type)                    Output Shape         Param #     Connected to                     \n",
            "==================================================================================================\n",
            "input_7 (InputLayer)            [(None, 80, 170, 3)] 0                                            \n",
            "__________________________________________________________________________________________________\n",
            "conv2d_48 (Conv2D)              (None, 78, 168, 32)  896         input_7[0][0]                    \n",
            "__________________________________________________________________________________________________\n",
            "batch_normalization_48 (BatchNo (None, 78, 168, 32)  128         conv2d_48[0][0]                  \n",
            "__________________________________________________________________________________________________\n",
            "conv2d_49 (Conv2D)              (None, 76, 166, 32)  9248        batch_normalization_48[0][0]     \n",
            "__________________________________________________________________________________________________\n",
            "batch_normalization_49 (BatchNo (None, 76, 166, 32)  128         conv2d_49[0][0]                  \n",
            "__________________________________________________________________________________________________\n",
            "max_pooling2d_24 (MaxPooling2D) (None, 38, 83, 32)   0           batch_normalization_49[0][0]     \n",
            "__________________________________________________________________________________________________\n",
            "conv2d_50 (Conv2D)              (None, 36, 81, 32)   9248        max_pooling2d_24[0][0]           \n",
            "__________________________________________________________________________________________________\n",
            "batch_normalization_50 (BatchNo (None, 36, 81, 32)   128         conv2d_50[0][0]                  \n",
            "__________________________________________________________________________________________________\n",
            "conv2d_51 (Conv2D)              (None, 34, 79, 32)   9248        batch_normalization_50[0][0]     \n",
            "__________________________________________________________________________________________________\n",
            "batch_normalization_51 (BatchNo (None, 34, 79, 32)   128         conv2d_51[0][0]                  \n",
            "__________________________________________________________________________________________________\n",
            "max_pooling2d_25 (MaxPooling2D) (None, 17, 39, 32)   0           batch_normalization_51[0][0]     \n",
            "__________________________________________________________________________________________________\n",
            "conv2d_52 (Conv2D)              (None, 15, 37, 32)   9248        max_pooling2d_25[0][0]           \n",
            "__________________________________________________________________________________________________\n",
            "batch_normalization_52 (BatchNo (None, 15, 37, 32)   128         conv2d_52[0][0]                  \n",
            "__________________________________________________________________________________________________\n",
            "conv2d_53 (Conv2D)              (None, 13, 35, 32)   9248        batch_normalization_52[0][0]     \n",
            "__________________________________________________________________________________________________\n",
            "batch_normalization_53 (BatchNo (None, 13, 35, 32)   128         conv2d_53[0][0]                  \n",
            "__________________________________________________________________________________________________\n",
            "max_pooling2d_26 (MaxPooling2D) (None, 6, 17, 32)    0           batch_normalization_53[0][0]     \n",
            "__________________________________________________________________________________________________\n",
            "conv2d_54 (Conv2D)              (None, 4, 15, 32)    9248        max_pooling2d_26[0][0]           \n",
            "__________________________________________________________________________________________________\n",
            "batch_normalization_54 (BatchNo (None, 4, 15, 32)    128         conv2d_54[0][0]                  \n",
            "__________________________________________________________________________________________________\n",
            "conv2d_55 (Conv2D)              (None, 2, 13, 32)    9248        batch_normalization_54[0][0]     \n",
            "__________________________________________________________________________________________________\n",
            "batch_normalization_55 (BatchNo (None, 2, 13, 32)    128         conv2d_55[0][0]                  \n",
            "__________________________________________________________________________________________________\n",
            "max_pooling2d_27 (MaxPooling2D) (None, 1, 13, 32)    0           batch_normalization_55[0][0]     \n",
            "__________________________________________________________________________________________________\n",
            "reshape_6 (Reshape)             (None, 13, 32)       0           max_pooling2d_27[0][0]           \n",
            "__________________________________________________________________________________________________\n",
            "dense_11 (Dense)                (None, 13, 32)       1056        reshape_6[0][0]                  \n",
            "__________________________________________________________________________________________________\n",
            "dropout_5 (Dropout)             (None, 13, 32)       0           dense_11[0][0]                   \n",
            "__________________________________________________________________________________________________\n",
            "dense_12 (Dense)                (None, 13, 37)       1221        dropout_5[0][0]                  \n",
            "__________________________________________________________________________________________________\n",
            "the_labels (InputLayer)         [(None, 4)]          0                                            \n",
            "__________________________________________________________________________________________________\n",
            "input_length (InputLayer)       [(None, 1)]          0                                            \n",
            "__________________________________________________________________________________________________\n",
            "label_length (InputLayer)       [(None, 1)]          0                                            \n",
            "__________________________________________________________________________________________________\n",
            "ctc (Lambda)                    (None, 1)            0           dense_12[0][0]                   \n",
            "                                                                 the_labels[0][0]                 \n",
            "                                                                 input_length[0][0]               \n",
            "                                                                 label_length[0][0]               \n",
            "==================================================================================================\n",
            "Total params: 68,933\n",
            "Trainable params: 68,421\n",
            "Non-trainable params: 512\n",
            "__________________________________________________________________________________________________\n"
          ],
          "name": "stdout"
        }
      ]
    },
    {
      "cell_type": "code",
      "metadata": {
        "id": "5Jzb1YnqlJug"
      },
      "source": [
        "##設計generator產生training data\n",
        "## 產生包含要給loss的資訊\n",
        "## X=輸入影像\n",
        "## np.ones(batch_size)*int(conv_shape[2])=CNN輸出feature Map寬度\n",
        "## np.ones(batch_size)*n_len=字串長度(可浮動)\n",
        "\n",
        "def gen(batch_size=128):\n",
        "    X = np.zeros((batch_size,height, width, 3), dtype=np.uint8)\n",
        "    y = np.zeros((batch_size, n_len), dtype=np.uint8)\n",
        "    while True:\n",
        "        generator = ImageCaptcha(width=width, height=height)\n",
        "        for i in range(batch_size):\n",
        "            random_str = ''.join([random.choice(characters) for j in range(4)])\n",
        "            X[i] = np.array(generator.generate_image(random_str))\n",
        "            y[i] = [characters.find(x) for x in random_str]\n",
        "        yield [X, y,np.ones(batch_size)*int(conv_shape[2]), np.ones(batch_size)*n_len], np.ones(batch_size)"
      ],
      "execution_count": 11,
      "outputs": []
    },
    {
      "cell_type": "code",
      "metadata": {
        "colab": {
          "base_uri": "https://localhost:8080/",
          "height": 260
        },
        "id": "dfcFs6InVQaT",
        "outputId": "0d915a15-c948-447f-b3a3-bd6aa07ef582"
      },
      "source": [
        "next_ge=gen(batch_size=1)\n",
        "test_ge=next(next_ge)\n",
        "plt.imshow(test_ge[0][0][0])\n",
        "print('Label: ',test_ge[0][1])\n",
        "print('CNN輸出寬度: ',test_ge[0][2])\n",
        "print('字串長度(可浮動): ',test_ge[0][3])"
      ],
      "execution_count": 16,
      "outputs": [
        {
          "output_type": "stream",
          "text": [
            "Label:  [[17 27 32 31]]\n",
            "CNN輸出寬度:  [13.]\n",
            "字串長度(可浮動):  [4.]\n"
          ],
          "name": "stdout"
        },
        {
          "output_type": "display_data",
          "data": {
            "image/png": "[encoded data removed]",
            "text/plain": [
              "<Figure size 432x288 with 1 Axes>"
            ]
          },
          "metadata": {
            "tags": [],
            "image/png": {
              "width": 369,
              "height": 191
            },
            "needs_background": "light"
          }
        }
      ]
    },
    {
      "cell_type": "markdown",
      "metadata": {
        "id": "auMWFs0nvt1B"
      },
      "source": [
        "## 開始訓練"
      ]
    },
    {
      "cell_type": "code",
      "metadata": {
        "colab": {
          "base_uri": "https://localhost:8080/"
        },
        "id": "fqdKnqollUKj",
        "outputId": "0c96950a-60ce-4189-ceff-5be27d10a33b"
      },
      "source": [
        "model.fit_generator(gen(32), steps_per_epoch=300, epochs=30)"
      ],
      "execution_count": 17,
      "outputs": [
        {
          "output_type": "stream",
          "text": [
            "Epoch 1/30\n",
            "300/300 [==============================] - 53s 175ms/step - loss: 15.3193\n",
            "Epoch 2/30\n",
            "300/300 [==============================] - 52s 174ms/step - loss: 11.1893\n",
            "Epoch 3/30\n",
            "300/300 [==============================] - 53s 176ms/step - loss: 7.9403\n",
            "Epoch 4/30\n",
            "300/300 [==============================] - 53s 176ms/step - loss: 6.2363\n",
            "Epoch 5/30\n",
            "300/300 [==============================] - 53s 175ms/step - loss: 5.2222\n",
            "Epoch 6/30\n",
            "300/300 [==============================] - 53s 176ms/step - loss: 4.5116\n",
            "Epoch 7/30\n",
            "300/300 [==============================] - 53s 177ms/step - loss: 4.0957\n",
            "Epoch 8/30\n",
            "300/300 [==============================] - 53s 177ms/step - loss: 3.7332\n",
            "Epoch 9/30\n",
            "300/300 [==============================] - 53s 177ms/step - loss: 3.5303\n",
            "Epoch 10/30\n",
            "300/300 [==============================] - 53s 177ms/step - loss: 3.3493\n",
            "Epoch 11/30\n",
            "300/300 [==============================] - 53s 176ms/step - loss: 3.1567\n",
            "Epoch 12/30\n",
            "300/300 [==============================] - 53s 178ms/step - loss: 3.1397\n",
            "Epoch 13/30\n",
            "300/300 [==============================] - 53s 178ms/step - loss: 3.0566\n",
            "Epoch 14/30\n",
            "300/300 [==============================] - 53s 177ms/step - loss: 2.9186\n",
            "Epoch 15/30\n",
            "300/300 [==============================] - 53s 176ms/step - loss: 2.8768\n",
            "Epoch 16/30\n",
            "300/300 [==============================] - 53s 176ms/step - loss: 2.8939\n",
            "Epoch 17/30\n",
            "300/300 [==============================] - 53s 176ms/step - loss: 2.7987\n",
            "Epoch 18/30\n",
            "300/300 [==============================] - 53s 175ms/step - loss: 2.7438\n",
            "Epoch 19/30\n",
            "300/300 [==============================] - 53s 176ms/step - loss: 2.5791\n",
            "Epoch 20/30\n",
            "300/300 [==============================] - 52s 174ms/step - loss: 2.6294\n",
            "Epoch 21/30\n",
            "300/300 [==============================] - 52s 174ms/step - loss: 2.5677\n",
            "Epoch 22/30\n",
            "300/300 [==============================] - 52s 174ms/step - loss: 2.5426\n",
            "Epoch 23/30\n",
            "300/300 [==============================] - 52s 174ms/step - loss: 2.4983\n",
            "Epoch 24/30\n",
            "300/300 [==============================] - 52s 173ms/step - loss: 2.4177\n",
            "Epoch 25/30\n",
            "300/300 [==============================] - 52s 173ms/step - loss: 2.4871\n",
            "Epoch 26/30\n",
            "300/300 [==============================] - 52s 173ms/step - loss: 2.3661\n",
            "Epoch 27/30\n",
            "300/300 [==============================] - 52s 174ms/step - loss: 2.3602\n",
            "Epoch 28/30\n",
            "300/300 [==============================] - 52s 174ms/step - loss: 2.3313\n",
            "Epoch 29/30\n",
            "300/300 [==============================] - 52s 173ms/step - loss: 2.3402\n",
            "Epoch 30/30\n",
            "300/300 [==============================] - 52s 173ms/step - loss: 2.4573\n"
          ],
          "name": "stdout"
        },
        {
          "output_type": "execute_result",
          "data": {
            "text/plain": [
              "<tensorflow.python.keras.callbacks.History at 0x7fb92a6acf98>"
            ]
          },
          "metadata": {
            "tags": []
          },
          "execution_count": 17
        }
      ]
    },
    {
      "cell_type": "markdown",
      "metadata": {
        "id": "RRqJSs8Wvt1B"
      },
      "source": [
        "## 預測"
      ]
    },
    {
      "cell_type": "code",
      "metadata": {
        "colab": {
          "base_uri": "https://localhost:8080/",
          "height": 234
        },
        "id": "Hq1zQtwtvt1B",
        "outputId": "3d98010e-9f5c-4c89-f367-c3de0eb080f0"
      },
      "source": [
        "characters2 = characters + ' '\n",
        "[X_test, y_test, _, _], _  = next(gen(1))\n",
        "y_pred = base_model.predict(X_test)\n",
        "# print(y_pred)\n",
        "\n",
        "##用ctc_decode得到解答，自己寫可以參考下方\n",
        "out = K.get_value(K.ctc_decode(y_pred, input_length=np.ones(y_pred.shape[0])*y_pred.shape[1], )[0][0])\n",
        "out = ''.join([characters[x] for x in out[0]])[:4]\n",
        "y_true = ''.join([characters[x] for x in y_test[0]])\n",
        "\n",
        "plt.imshow(X_test[0])\n",
        "plt.title('pred:' + str(out) + '\\ntrue: ' + str(y_true))\n",
        "\n",
        "argmax = np.argmax(y_pred, axis=2)[0]"
      ],
      "execution_count": 30,
      "outputs": [
        {
          "output_type": "display_data",
          "data": {
            "image/png": "[encoded data removed]",
            "text/plain": [
              "<Figure size 432x288 with 1 Axes>"
            ]
          },
          "metadata": {
            "tags": [],
            "image/png": {
              "width": 369,
              "height": 217
            },
            "needs_background": "light"
          }
        }
      ]
    },
    {
      "cell_type": "markdown",
      "metadata": {
        "id": "zuVsaBfRvt1B"
      },
      "source": [
        "## 自己寫 decode CTC"
      ]
    },
    {
      "cell_type": "code",
      "metadata": {
        "id": "KKOFLV15vt1B"
      },
      "source": [
        "## 其中0代表預測為空格，如果預測相同字符之間沒有空格要移除\n",
        "word=''\n",
        "n=''\n",
        "for single_result in y_pred[0].argmax(1):\n",
        "    if single_result != 36:\n",
        "        if n != single_result:\n",
        "            word+=characters[single_result]\n",
        "    n=single_result "
      ],
      "execution_count": null,
      "outputs": []
    },
    {
      "cell_type": "markdown",
      "metadata": {
        "id": "Pyt_Hypevt1B"
      },
      "source": [
        "## 額外參考：加入RNN的神經網路"
      ]
    },
    {
      "cell_type": "code",
      "metadata": {
        "id": "2KIumqsEvt1B",
        "outputId": "fa5061d9-a6d4-4fe1-8e03-a8819d89dbc7"
      },
      "source": [
        "from keras.models import *\n",
        "from keras.layers import *\n",
        "rnn_size = 128\n",
        "\n",
        "input_tensor = Input((height,width, 3))\n",
        "x = input_tensor\n",
        "for i in range(4):\n",
        "    x = Convolution2D(32, 3, 3, activation='relu')(x)\n",
        "    x = keras.layers.BatchNormalization(axis=-1)(x)\n",
        "    x = Convolution2D(32, 3, 3, activation='relu')(x)\n",
        "    x = keras.layers.BatchNormalization(axis=-1)(x)\n",
        "    if i <3:\n",
        "        x = MaxPooling2D(pool_size=(2, 2))(x)\n",
        "    else:\n",
        "        x = MaxPooling2D(pool_size=(2, 1))(x)\n",
        "\n",
        "\n",
        "conv_shape = x.get_shape()\n",
        "x = Reshape(target_shape=(int(conv_shape[2]), int(conv_shape[1]*conv_shape[3])))(x)\n",
        "\n",
        "x = Dense(32, activation='relu')(x)\n",
        "\n",
        "gru_1 = GRU(rnn_size, return_sequences=True, init='he_normal', name='gru1')(x)\n",
        "gru_1b = GRU(rnn_size, return_sequences=True, go_backwards=True, \n",
        "             init='he_normal', name='gru1_b')(x)\n",
        "gru1_merged = keras.layers.add([gru_1, gru_1b])\n",
        "\n",
        "gru_2 = GRU(rnn_size, return_sequences=True, init='he_normal', name='gru2')(gru1_merged)\n",
        "gru_2b = GRU(rnn_size, return_sequences=True, go_backwards=True, \n",
        "             init='he_normal', name='gru2_b')(gru1_merged)\n",
        "x = keras.layers.Concatenate()([gru_2, gru_2b])\n",
        "\n",
        "x = Dropout(0.25)(x)\n",
        "x = Dense(n_class, init='he_normal', activation='softmax')(x)\n",
        "\n",
        "base_model = Model(input=input_tensor, output=x)\n",
        "\n",
        "labels = Input(name='the_labels', shape=[n_len], dtype='float32')\n",
        "input_length = Input(name='input_length', shape=[1], dtype='int64')\n",
        "label_length = Input(name='label_length', shape=[1], dtype='int64')\n",
        "loss_out = Lambda(ctc_lambda_func, output_shape=(1,), \n",
        "                  name='ctc')([x, labels, input_length, label_length])\n",
        "\n",
        "model = Model(input=[input_tensor, labels, input_length, label_length], output=[loss_out])\n",
        "model.compile(loss={'ctc': lambda y_true, y_pred: y_pred}, optimizer='Adam')"
      ],
      "execution_count": null,
      "outputs": [
        {
          "output_type": "stream",
          "text": [
            "/Users/chening/anaconda3/lib/python3.6/site-packages/ipykernel_launcher.py:8: UserWarning: Update your `Conv2D` call to the Keras 2 API: `Conv2D(32, (3, 3), activation=\"relu\")`\n",
            "  \n",
            "/Users/chening/anaconda3/lib/python3.6/site-packages/ipykernel_launcher.py:10: UserWarning: Update your `Conv2D` call to the Keras 2 API: `Conv2D(32, (3, 3), activation=\"relu\")`\n",
            "  # Remove the CWD from sys.path while we load stuff.\n",
            "/Users/chening/anaconda3/lib/python3.6/site-packages/ipykernel_launcher.py:23: UserWarning: Update your `GRU` call to the Keras 2 API: `GRU(128, return_sequences=True, name=\"gru1\", kernel_initializer=\"he_normal\")`\n",
            "/Users/chening/anaconda3/lib/python3.6/site-packages/ipykernel_launcher.py:25: UserWarning: Update your `GRU` call to the Keras 2 API: `GRU(128, return_sequences=True, go_backwards=True, name=\"gru1_b\", kernel_initializer=\"he_normal\")`\n",
            "/Users/chening/anaconda3/lib/python3.6/site-packages/ipykernel_launcher.py:28: UserWarning: Update your `GRU` call to the Keras 2 API: `GRU(128, return_sequences=True, name=\"gru2\", kernel_initializer=\"he_normal\")`\n",
            "/Users/chening/anaconda3/lib/python3.6/site-packages/ipykernel_launcher.py:30: UserWarning: Update your `GRU` call to the Keras 2 API: `GRU(128, return_sequences=True, go_backwards=True, name=\"gru2_b\", kernel_initializer=\"he_normal\")`\n",
            "/Users/chening/anaconda3/lib/python3.6/site-packages/ipykernel_launcher.py:34: UserWarning: Update your `Dense` call to the Keras 2 API: `Dense(37, activation=\"softmax\", kernel_initializer=\"he_normal\")`\n",
            "/Users/chening/anaconda3/lib/python3.6/site-packages/ipykernel_launcher.py:36: UserWarning: Update your `Model` call to the Keras 2 API: `Model(inputs=Tensor(\"in..., outputs=Tensor(\"de...)`\n",
            "/Users/chening/anaconda3/lib/python3.6/site-packages/ipykernel_launcher.py:44: UserWarning: Update your `Model` call to the Keras 2 API: `Model(inputs=[<tf.Tenso..., outputs=[<tf.Tenso...)`\n"
          ],
          "name": "stderr"
        }
      ]
    },
    {
      "cell_type": "code",
      "metadata": {
        "id": "GizkKftxvt1B",
        "outputId": "8ede165f-c6aa-44b2-d635-9315d63d36a7"
      },
      "source": [
        "model.summary()"
      ],
      "execution_count": null,
      "outputs": [
        {
          "output_type": "stream",
          "text": [
            "__________________________________________________________________________________________________\n",
            "Layer (type)                    Output Shape         Param #     Connected to                     \n",
            "==================================================================================================\n",
            "input_4 (InputLayer)            (None, 80, 170, 3)   0                                            \n",
            "__________________________________________________________________________________________________\n",
            "conv2d_25 (Conv2D)              (None, 78, 168, 32)  896         input_4[0][0]                    \n",
            "__________________________________________________________________________________________________\n",
            "batch_normalization_25 (BatchNo (None, 78, 168, 32)  128         conv2d_25[0][0]                  \n",
            "__________________________________________________________________________________________________\n",
            "conv2d_26 (Conv2D)              (None, 76, 166, 32)  9248        batch_normalization_25[0][0]     \n",
            "__________________________________________________________________________________________________\n",
            "batch_normalization_26 (BatchNo (None, 76, 166, 32)  128         conv2d_26[0][0]                  \n",
            "__________________________________________________________________________________________________\n",
            "max_pooling2d_13 (MaxPooling2D) (None, 38, 83, 32)   0           batch_normalization_26[0][0]     \n",
            "__________________________________________________________________________________________________\n",
            "conv2d_27 (Conv2D)              (None, 36, 81, 32)   9248        max_pooling2d_13[0][0]           \n",
            "__________________________________________________________________________________________________\n",
            "batch_normalization_27 (BatchNo (None, 36, 81, 32)   128         conv2d_27[0][0]                  \n",
            "__________________________________________________________________________________________________\n",
            "conv2d_28 (Conv2D)              (None, 34, 79, 32)   9248        batch_normalization_27[0][0]     \n",
            "__________________________________________________________________________________________________\n",
            "batch_normalization_28 (BatchNo (None, 34, 79, 32)   128         conv2d_28[0][0]                  \n",
            "__________________________________________________________________________________________________\n",
            "max_pooling2d_14 (MaxPooling2D) (None, 17, 39, 32)   0           batch_normalization_28[0][0]     \n",
            "__________________________________________________________________________________________________\n",
            "conv2d_29 (Conv2D)              (None, 15, 37, 32)   9248        max_pooling2d_14[0][0]           \n",
            "__________________________________________________________________________________________________\n",
            "batch_normalization_29 (BatchNo (None, 15, 37, 32)   128         conv2d_29[0][0]                  \n",
            "__________________________________________________________________________________________________\n",
            "conv2d_30 (Conv2D)              (None, 13, 35, 32)   9248        batch_normalization_29[0][0]     \n",
            "__________________________________________________________________________________________________\n",
            "batch_normalization_30 (BatchNo (None, 13, 35, 32)   128         conv2d_30[0][0]                  \n",
            "__________________________________________________________________________________________________\n",
            "max_pooling2d_15 (MaxPooling2D) (None, 6, 17, 32)    0           batch_normalization_30[0][0]     \n",
            "__________________________________________________________________________________________________\n",
            "conv2d_31 (Conv2D)              (None, 4, 15, 32)    9248        max_pooling2d_15[0][0]           \n",
            "__________________________________________________________________________________________________\n",
            "batch_normalization_31 (BatchNo (None, 4, 15, 32)    128         conv2d_31[0][0]                  \n",
            "__________________________________________________________________________________________________\n",
            "conv2d_32 (Conv2D)              (None, 2, 13, 32)    9248        batch_normalization_31[0][0]     \n",
            "__________________________________________________________________________________________________\n",
            "batch_normalization_32 (BatchNo (None, 2, 13, 32)    128         conv2d_32[0][0]                  \n",
            "__________________________________________________________________________________________________\n",
            "max_pooling2d_16 (MaxPooling2D) (None, 1, 13, 32)    0           batch_normalization_32[0][0]     \n",
            "__________________________________________________________________________________________________\n",
            "reshape_4 (Reshape)             (None, 13, 32)       0           max_pooling2d_16[0][0]           \n",
            "__________________________________________________________________________________________________\n",
            "dense_7 (Dense)                 (None, 13, 32)       1056        reshape_4[0][0]                  \n",
            "__________________________________________________________________________________________________\n",
            "gru1 (GRU)                      (None, 13, 128)      61824       dense_7[0][0]                    \n",
            "__________________________________________________________________________________________________\n",
            "gru1_b (GRU)                    (None, 13, 128)      61824       dense_7[0][0]                    \n",
            "__________________________________________________________________________________________________\n",
            "add_2 (Add)                     (None, 13, 128)      0           gru1[0][0]                       \n",
            "                                                                 gru1_b[0][0]                     \n",
            "__________________________________________________________________________________________________\n",
            "gru2 (GRU)                      (None, 13, 128)      98688       add_2[0][0]                      \n",
            "__________________________________________________________________________________________________\n",
            "gru2_b (GRU)                    (None, 13, 128)      98688       add_2[0][0]                      \n",
            "__________________________________________________________________________________________________\n",
            "concatenate_2 (Concatenate)     (None, 13, 256)      0           gru2[0][0]                       \n",
            "                                                                 gru2_b[0][0]                     \n",
            "__________________________________________________________________________________________________\n",
            "dropout_4 (Dropout)             (None, 13, 256)      0           concatenate_2[0][0]              \n",
            "__________________________________________________________________________________________________\n",
            "dense_8 (Dense)                 (None, 13, 37)       9509        dropout_4[0][0]                  \n",
            "__________________________________________________________________________________________________\n",
            "the_labels (InputLayer)         (None, 4)            0                                            \n",
            "__________________________________________________________________________________________________\n",
            "input_length (InputLayer)       (None, 1)            0                                            \n",
            "__________________________________________________________________________________________________\n",
            "label_length (InputLayer)       (None, 1)            0                                            \n",
            "__________________________________________________________________________________________________\n",
            "ctc (Lambda)                    (None, 1)            0           dense_8[0][0]                    \n",
            "                                                                 the_labels[0][0]                 \n",
            "                                                                 input_length[0][0]               \n",
            "                                                                 label_length[0][0]               \n",
            "==================================================================================================\n",
            "Total params: 398,245\n",
            "Trainable params: 397,733\n",
            "Non-trainable params: 512\n",
            "__________________________________________________________________________________________________\n"
          ],
          "name": "stdout"
        }
      ]
    },
    {
      "cell_type": "code",
      "metadata": {
        "id": "zMvfqtW2vt1C"
      },
      "source": [
        ""
      ],
      "execution_count": null,
      "outputs": []
    }
  ]
}